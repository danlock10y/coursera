{
 "cells": [
  {
   "cell_type": "markdown",
   "id": "1521ab02-c864-4d23-8894-e72ae6a611dc",
   "metadata": {},
   "source": [
    "# Data Science Tools and Ecosystem"
   ]
  },
  {
   "cell_type": "markdown",
   "id": "43ed7145-4b7e-43b8-b910-d881afc221e3",
   "metadata": {},
   "source": [
    "In this notebook, I write whatever the assignment tells me to write. I also forget to switch cells from code to markdown."
   ]
  },
  {
   "cell_type": "markdown",
   "id": "531dbd7c-3cb7-42a6-a69b-e570e30b81eb",
   "metadata": {},
   "source": [
    "**Objectives:**\n",
    "- To list popular languages used by data scientists\n",
    "- To list some commonly used libraries by Data Scientists\n",
    "- To show that I can make a table and various types of lists\n",
    "- To demonstrate rudimentary understanding of basic Python functions"
   ]
  },
  {
   "cell_type": "markdown",
   "id": "0cc877f9-2f52-4fd8-a7ed-fb2ea07ba0e1",
   "metadata": {},
   "source": [
    "Some of the popular languages that Data scientists use are:\n",
    "1) python\n",
    "2) R\n",
    "3) English (this is a joke answer)\n",
    "4) Scala\n",
    "5) Julia\n",
    "6) SQL"
   ]
  },
  {
   "cell_type": "markdown",
   "id": "f825e3d4-2559-4c0f-a40b-7497b509ad37",
   "metadata": {},
   "source": [
    "Some of the commonly used libraries used by Data Scientists include:\n",
    "1) pandas\n",
    "2) numpy\n",
    "3) ggplot2\n",
    "4) GGally"
   ]
  },
  {
   "cell_type": "markdown",
   "id": "aa02f158-ef79-4881-98fd-9f01724d8ef8",
   "metadata": {},
   "source": [
    "|Data Science Tools|\n",
    "-----\n",
    "|Jupyter|\n",
    "|VSCode|\n",
    "|RStudio|"
   ]
  },
  {
   "cell_type": "markdown",
   "id": "17b60ab7-62fc-4081-adb6-8609553f2959",
   "metadata": {},
   "source": [
    "### Below are a few examples of evaluating arithmetic expressions in Python"
   ]
  },
  {
   "cell_type": "code",
   "execution_count": 5,
   "id": "91968310-4384-4a8b-8481-8058310d1ebf",
   "metadata": {},
   "outputs": [
    {
     "name": "stdout",
     "output_type": "stream",
     "text": [
      "The answer to 3 multiplied by 4 plus 5 is 17\n"
     ]
    }
   ],
   "source": [
    "# This is simple arithmetic expression to multiply then add integers\n",
    "x = 3\n",
    "y = 4\n",
    "z = 5\n",
    "\n",
    "result = (x * y) + z\n",
    "\n",
    "print(\"The answer to {firstval} multiplied by {secondval} plus {thirdval} is {result}\".format(firstval=x, secondval=y, thirdval=z, result=result))"
   ]
  },
  {
   "cell_type": "code",
   "execution_count": 6,
   "id": "0d98caf1-6166-4778-ae61-2e1f88f28654",
   "metadata": {},
   "outputs": [
    {
     "name": "stdout",
     "output_type": "stream",
     "text": [
      "200 minutes is 3.33 hours\n"
     ]
    }
   ],
   "source": [
    "# This will convert 200 minutes to hours by diving by 60\n",
    "# Seems more efficient to divide than dive, but oh well\n",
    "minutes = 200\n",
    "hours = minutes / 60\n",
    "\n",
    "# Lets round that to 2dp to make it look nicer\n",
    "hours = round(hours, 2)\n",
    "print(\"{minutes} minutes is {hours} hours\".format(minutes=minutes, hours=hours))"
   ]
  },
  {
   "cell_type": "markdown",
   "id": "654d693c-67a5-4145-91ed-6fa56e90bff0",
   "metadata": {},
   "source": [
    "## Author\n",
    "Daniel Lock"
   ]
  },
  {
   "cell_type": "code",
   "execution_count": null,
   "id": "f87b696a-4907-417a-bba3-43d63f0de4dd",
   "metadata": {},
   "outputs": [],
   "source": []
  }
 ],
 "metadata": {
  "kernelspec": {
   "display_name": "Python 3 (ipykernel)",
   "language": "python",
   "name": "python3"
  },
  "language_info": {
   "codemirror_mode": {
    "name": "ipython",
    "version": 3
   },
   "file_extension": ".py",
   "mimetype": "text/x-python",
   "name": "python",
   "nbconvert_exporter": "python",
   "pygments_lexer": "ipython3",
   "version": "3.11.5"
  }
 },
 "nbformat": 4,
 "nbformat_minor": 5
}
